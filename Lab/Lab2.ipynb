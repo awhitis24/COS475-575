{
  "cells": [
    {
      "cell_type": "markdown",
      "metadata": {
        "id": "view-in-github",
        "colab_type": "text"
      },
      "source": [
        "<a href=\"https://colab.research.google.com/github/bruceMacLeod/COS475-575/blob/main/Lab/Lab2.ipynb\" target=\"_parent\"><img src=\"https://colab.research.google.com/assets/colab-badge.svg\" alt=\"Open In Colab\"/></a>"
      ]
    },
    {
      "cell_type": "markdown",
      "metadata": {
        "id": "24wOsUJS_A4i"
      },
      "source": [
        "## Lab 2 \n",
        "\n",
        "    Python practice to help with Assignment 1\n",
        "\n",
        "### Names : "
      ]
    },
    {
      "cell_type": "markdown",
      "metadata": {
        "id": "0SdzrMNr_A4n"
      },
      "source": [
        "### Dictionaries"
      ]
    },
    {
      "cell_type": "code",
      "execution_count": null,
      "metadata": {
        "id": "KdP9obk5_A4n"
      },
      "outputs": [],
      "source": [
        "# create a dictionary to hold the following data : \n",
        "# \n",
        "#      Bruce     120\n",
        "#      Bob       110 \n",
        "#      Cindy     140\n",
        "#      Cathy     100\n"
      ]
    },
    {
      "cell_type": "code",
      "execution_count": null,
      "metadata": {
        "id": "3H34GjTv_A4o"
      },
      "outputs": [],
      "source": [
        "# write a function named average that computes the average of all dictionary values and returns the result\n"
      ]
    },
    {
      "cell_type": "markdown",
      "metadata": {
        "id": "ne0U2Un4_A4p"
      },
      "source": [
        "### List Comprehensions"
      ]
    },
    {
      "cell_type": "code",
      "execution_count": null,
      "metadata": {
        "id": "ui6PGaja_A4p",
        "outputId": "180ff5a9-9864-4986-ac19-f6fb6072a4cc"
      },
      "outputs": [
        {
          "data": {
            "text/plain": [
              "['BANANA', 'PEAR', 'STRAWBERRY', 'APPLE', 'PINEAPPLE', 'ORANGE']"
            ]
          },
          "execution_count": 3,
          "metadata": {},
          "output_type": "execute_result"
        }
      ],
      "source": [
        "#   Replace the following loop using list comprehension\n",
        "\n",
        "fruits = ['banana', 'pear', 'strawberry', 'apple', 'pineapple', 'orange']\n",
        "\n",
        "output = []\n",
        "for fruit in fruits:\n",
        "    output.append(fruit.upper())\n",
        "output"
      ]
    },
    {
      "cell_type": "code",
      "execution_count": null,
      "metadata": {
        "id": "d5YNOW-7_A4q"
      },
      "outputs": [],
      "source": [
        "# Using list comprehensions to create a list of fruits with 5 or more characters\n"
      ]
    },
    {
      "cell_type": "code",
      "execution_count": null,
      "metadata": {
        "id": "vhQzz-uj_A4r"
      },
      "outputs": [],
      "source": [
        "# Create a list from the elements of a range from 1200 to 2000 with steps of 130, using list comprehension.\n",
        "# hint : may want to look at the parameters of the range function\n"
      ]
    },
    {
      "cell_type": "code",
      "execution_count": null,
      "metadata": {
        "id": "5-i7ts6O_A4r"
      },
      "outputs": [],
      "source": [
        "# Given dictionary is consisted of vehicles and their weights in kilograms. \n",
        "# Contruct a list of the names of vehicles with weight below 5000 kilograms. \n",
        "# In the same list comprehension make the key names all upper case.\n"
      ]
    },
    {
      "cell_type": "markdown",
      "metadata": {
        "id": "8FA3Vcrn_A4s"
      },
      "source": [
        "### Object Oriented Python\n",
        "One reference : https://pynative.com/python-classes-and-objects/"
      ]
    },
    {
      "cell_type": "code",
      "execution_count": null,
      "metadata": {
        "id": "0dkTDe7k_A4s"
      },
      "outputs": [],
      "source": [
        "# Write a Rectangle class in Python language, allowing you to build a rectangle with length and width attributes.\n",
        "#     the length and width attributes should be provided when the rectangle object is created \n",
        "\n",
        "# Create a Perimeter() method to calculate the perimeter of the rectangle and a Area() method \n",
        "#     to calculate the area of the rectangle.\n",
        "\n",
        "# Create a method display() that display the length, width, perimeter and area of a rectangle object\n",
        "\n",
        "# Provide a string representation of the rectangle variables that gets printed when printing a rectangle object \n",
        "#     The current behavior of printing a rectangle is like : <__main__.Rectangle object at 0x7fcbb774f9a0>"
      ]
    },
    {
      "cell_type": "markdown",
      "metadata": {
        "id": "V49wQYmN_A4t"
      },
      "source": [
        "### Reading data files using Pandas, Panda exercises"
      ]
    },
    {
      "cell_type": "code",
      "execution_count": null,
      "metadata": {
        "id": "TKV8oXLo_A4t"
      },
      "outputs": [],
      "source": [
        "# the following code will help us pull data from the NHANES cdc website to our local machine\n",
        "# feel free to ask questions if you do not understand the code\n",
        "import os\n",
        "import tarfile\n",
        "import urllib\n",
        "\n",
        "DOWNLOAD_ROOT = \"https://wwwn.cdc.gov/Nchs/Nhanes/2017-2018/\"\n",
        "LOCAL_DATA_PATH = os.path.join(\"datasets\", \"nhanes\") + \"/\"\n",
        "FILE_NAME = \"P_DEMO.XPT\"\n",
        "\n",
        "def fetch_nhanes_data(file_name=FILE_NAME, nhanes_url=DOWNLOAD_ROOT,  nhanes_path=LOCAL_DATA_PATH): \n",
        "    os.makedirs(nhanes_path, exist_ok=True)\n",
        "    xpt_path = os.path.join(nhanes_path, file_name) \n",
        "    url = nhanes_url + file_name\n",
        "    urllib.request.urlretrieve(url, xpt_path)"
      ]
    },
    {
      "cell_type": "code",
      "execution_count": null,
      "metadata": {
        "id": "JD96kstp_A4t"
      },
      "outputs": [],
      "source": [
        "# The default arguments will transfer the demographic data of patients to our local machine\n",
        "fetch_nhanes_data()"
      ]
    },
    {
      "cell_type": "code",
      "execution_count": null,
      "metadata": {
        "id": "gqXoFkJD_A4u"
      },
      "outputs": [],
      "source": [
        "# The files are in a format that is used by the SAS statistical software program. Fortunately, \n",
        "# the panda library has routines for reading in data in many different formats, including sas format (.xpt file)\n",
        "# Specifically, the following command will read the local demographic data into a pandas dataframe:\n",
        "\n",
        "import pandas as pd\n",
        "demo_df = pd.read_sas(LOCAL_DATA_PATH + \"P_DEMO.XPT\")"
      ]
    },
    {
      "cell_type": "code",
      "execution_count": null,
      "metadata": {
        "id": "NfmSc-rh_A4u"
      },
      "outputs": [],
      "source": [
        "# Display the contents of the first 8 rows of demographic data\n"
      ]
    },
    {
      "cell_type": "code",
      "execution_count": null,
      "metadata": {
        "id": "yXS-vmYS_A4u"
      },
      "outputs": [],
      "source": [
        "# Of course, the data represented by these columns are in many cases unclear. Good machine learning always \n",
        "# starts with understanding the problem domain and understanding the data being used. \n",
        "\n",
        "# With that in mind,  locate the documentation for the demographic data and describe the data \n",
        "# in the columns : 'SEQN', 'SDDSRVYR', 'RIDSTATR', 'RIAGENDR', 'RIDAGEYR', 'RIDRETH1'  Create a markdown cell below \n",
        "# to provide these definitions. \n",
        "\n",
        "# Sometimes the documentation is insufficient and you may need to do a bit of digging to get definitions that \n",
        "# you understand\n"
      ]
    },
    {
      "cell_type": "code",
      "execution_count": null,
      "metadata": {
        "id": "wcLNzFzb_A4v"
      },
      "outputs": [],
      "source": [
        "# Write code to create a new dataframe named demov2_df with just the columns : \n",
        "#     'SEQN', 'SDDSRVYR', 'RIDSTATR', 'RIAGENDR', 'RIDAGEYR', 'RIDRETH1',\n"
      ]
    },
    {
      "cell_type": "code",
      "execution_count": null,
      "metadata": {
        "id": "l8SyjHK1_A4v"
      },
      "outputs": [],
      "source": [
        "# How many missing values in the SEQN column ? RIDRETHI column ? \n"
      ]
    },
    {
      "cell_type": "code",
      "execution_count": null,
      "metadata": {
        "id": "lMdKXqG3_A4v"
      },
      "outputs": [],
      "source": [
        "# Create two new dataframes \n",
        "#      demo_adult with individuals with age 21 or greater \n",
        "#      demo_child with ages less than 21"
      ]
    },
    {
      "cell_type": "code",
      "execution_count": null,
      "metadata": {
        "id": "mu5AMI_d_A4v"
      },
      "outputs": [],
      "source": [
        "# what is the ratio of females/total in each of the above dataframes ? "
      ]
    }
  ],
  "metadata": {
    "kernelspec": {
      "display_name": "Python 3",
      "language": "python",
      "name": "python3"
    },
    "language_info": {
      "codemirror_mode": {
        "name": "ipython",
        "version": 3
      },
      "file_extension": ".py",
      "mimetype": "text/x-python",
      "name": "python",
      "nbconvert_exporter": "python",
      "pygments_lexer": "ipython3",
      "version": "3.8.3"
    },
    "colab": {
      "name": "Lab2.ipynb",
      "provenance": [],
      "include_colab_link": true
    }
  },
  "nbformat": 4,
  "nbformat_minor": 0
}