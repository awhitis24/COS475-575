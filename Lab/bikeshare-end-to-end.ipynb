{
 "cells": [
  {
   "cell_type": "markdown",
   "metadata": {
    "colab_type": "text",
    "id": "view-in-github"
   },
   "source": [
    "<a href=\"https://colab.research.google.com/github/bruceMacLeod/COS475-575/blob/main/Lab/bikeshare-end-to-end.ipynb\" target=\"_parent\"><img src=\"https://colab.research.google.com/assets/colab-badge.svg\" alt=\"Open In Colab\"/></a>"
   ]
  },
  {
   "cell_type": "markdown",
   "metadata": {
    "_cell_guid": "29ce58a2-2b6a-6869-8535-43ffdf2a040c",
    "id": "LewBjYI7hP7v"
   },
   "source": [
    "This notebook explains how we can go about explore and prepare data for model building.The notebook is structured in the following way \n",
    "\n",
    " - Problem Definition\n",
    " - Data Gathering and Import\n",
    " - Data Wrangling/Cleaning\n",
    " - Exploratory Data Analysis\n",
    " - Data Modeling\n",
    " - Prediction\n",
    "\n",
    " References/Source:\n",
    "    - https://github.com/ageron/handson-ml2/blob/master/02_end_to_end_machine_learning_project.ipynb\n",
    "    - https://github.com/usm-cos422-522/courseMaterials/blob/main/Labs/titanic-workflow.ipynb\n",
    "    - https://www.kaggle.com/viveksrinivasan/eda-ensemble-model-top-10-percentile\n",
    "    - https://www.kaggle.com/miteshyadav/comprehensive-eda-with-xgboost-top-10-percentile"
   ]
  },
  {
   "cell_type": "markdown",
   "metadata": {
    "_cell_guid": "783f3ec4-bb24-8414-1055-5dc24748ce68",
    "id": "9o3fderYhP7y"
   },
   "source": [
    "## Problem Definition"
   ]
  },
  {
   "cell_type": "markdown",
   "metadata": {
    "_cell_guid": "d0754314-700d-e91c-6e39-55c083cf085e",
    "id": "BgF7aK31hP7z"
   },
   "source": [
    "#### Goal\n",
    "\n",
    "To forecast bike rental demand in the Capital Bikeshare program in Washington, D.C. by combining historical usage patterns with weather data in order to forecast bike rental demand. \n",
    "\n",
    "Bike sharing systems are a means of renting bicycles where the process of obtaining membership, rental, and bike return is automated via a network of kiosk locations throughout a city. Using these systems, people are able rent a bike from a one location and return it to a different place on an as-needed basis. Currently, there are over 500 bike-sharing programs around the world.\n",
    "\n",
    "#### **Data Fields**\n",
    "\n",
    "* dteday - date\n",
    "* season -  1 = spring, 2 = summer, 3 = fall, 4 = winter\n",
    "* yr - year\n",
    "* mnth - month\n",
    "* hr - hour\n",
    "* holiday - whether the day is considered a holiday\n",
    "* weekday\n",
    "* workingday - whether the day is neither a weekend nor holiday\n",
    "* weathersit -\n",
    "    * 1: Clear, Few clouds, Partly cloudy, Partly cloudy\n",
    "    * 2: Mist + Cloudy, Mist + Broken clouds, Mist + Few clouds, Mist\n",
    "    * 3: Light Snow, Light Rain + Thunderstorm + Scattered clouds, Light Rain + Scattered clouds\n",
    "    * 4: Heavy Rain + Ice Pallets + Thunderstorm + Mist, Snow + Fog \n",
    "* temp - temperature in Celsius\n",
    "* atemp - \"feels like\" temperature in Celsius\n",
    "* humidity - relative humidity\n",
    "* windspeed - wind speed\n",
    "* casual - number of non-registered user rentals initiated\n",
    "* registered - number of registered user rentals initiated\n",
    "* cnt - number of total rentals (Dependent Variable)\n",
    "\n"
   ]
  },
  {
   "cell_type": "markdown",
   "metadata": {
    "id": "AaFzHnDQhP70"
   },
   "source": [
    "##  Data Gathering and Import"
   ]
  },
  {
   "cell_type": "code",
   "execution_count": null,
   "metadata": {
    "_cell_guid": "548437f4-7dcb-60a4-0a79-74d9594b071b",
    "id": "nAwUTWiUhP70"
   },
   "outputs": [],
   "source": [
    "import pylab\n",
    "import calendar\n",
    "import numpy as np\n",
    "import pandas as pd\n",
    "import seaborn as sns\n",
    "from scipy import stats\n",
    "from datetime import datetime\n",
    "import matplotlib.pyplot as plt\n",
    "import warnings\n",
    "warnings.filterwarnings(\"ignore\", category=DeprecationWarning)\n",
    "\n",
    "# libraries for reading url based files\n",
    "import os\n",
    "import tarfile\n",
    "import urllib\n",
    "\n",
    "# libraries for recoding fields and pipeline construction\n",
    "from sklearn.impute import SimpleImputer \n",
    "from sklearn.pipeline import Pipeline\n",
    "from sklearn.preprocessing import StandardScaler\n",
    "from sklearn.compose import ColumnTransformer \n",
    "from sklearn.preprocessing import OneHotEncoder\n",
    "\n",
    "# libraries for model building\n",
    "from sklearn.linear_model import LinearRegression\n",
    "from sklearn.metrics import mean_squared_error\n",
    "from sklearn.model_selection import GridSearchCV\n",
    "from sklearn import metrics\n",
    "from sklearn.metrics import mean_squared_error\n",
    "\n",
    "pd.options.mode.chained_assignment = None\n",
    "%matplotlib inline"
   ]
  },
  {
   "cell_type": "markdown",
   "metadata": {
    "_cell_guid": "ec94edf8-890a-0ba2-decc-914582ac316d",
    "id": "awYWaX90hP71"
   },
   "source": [
    "### **Read In The Dataset from the UCI data repository**\n",
    "\n",
    "The data file is located at https://archive.ics.uci.edu/ml/machine-learning-databases/00275/  We will have to download the zip file and then extract the hourly data"
   ]
  },
  {
   "cell_type": "code",
   "execution_count": null,
   "metadata": {
    "id": "mrY2q1SDhP72"
   },
   "outputs": [],
   "source": [
    "\n",
    "DOWNLOAD_ROOT = \"https://archive.ics.uci.edu/ml/machine-learning-databases/00275/\"\n",
    "LOCAL_DATA_PATH = os.path.join(\"datasets\", \"bikeshare\") + \"/\"\n",
    "FILE_NAME = \"Bike-Sharing-Dataset.zip\"\n",
    "\n",
    "def fetch_bikeshare_data(file_name = FILE_NAME, bikeshare_url=DOWNLOAD_ROOT,  bikeshare_path=LOCAL_DATA_PATH): \n",
    "    os.makedirs(bikeshare_path, exist_ok=True)\n",
    "    xpt_path = os.path.join(bikeshare_path, file_name) \n",
    "    url = bikeshare_url + file_name\n",
    "    urllib.request.urlretrieve(url, xpt_path)"
   ]
  },
  {
   "cell_type": "code",
   "execution_count": null,
   "metadata": {
    "id": "rXJDJwyIhP72"
   },
   "outputs": [],
   "source": [
    "fetch_bikeshare_data()"
   ]
  },
  {
   "cell_type": "code",
   "execution_count": null,
   "metadata": {
    "colab": {
     "base_uri": "https://localhost:8080/"
    },
    "id": "UB2aKsPWhP73",
    "outputId": "3e99c3ac-9892-42ae-cb43-e8205fc8dd8d"
   },
   "outputs": [],
   "source": [
    "!unzip -o datasets/bikeshare/Bike-Sharing-Dataset -d ./datasets/bikeshare\n",
    "!ls datasets/bikeshare"
   ]
  },
  {
   "cell_type": "code",
   "execution_count": null,
   "metadata": {
    "colab": {
     "base_uri": "https://localhost:8080/",
     "height": 206
    },
    "id": "twUK_glhhP73",
    "outputId": "4857a5cd-e903-4318-f637-6234b3f05280"
   },
   "outputs": [],
   "source": [
    "df = pd.read_csv('./datasets/bikeshare/hour.csv',parse_dates=['dteday'])\n",
    "df.head()"
   ]
  },
  {
   "cell_type": "markdown",
   "metadata": {
    "_cell_guid": "4eab050d-65c1-7c33-5414-c408a553950d",
    "id": "s7nXT7B0hP74"
   },
   "source": [
    "### Exploring Data Structure and Features\n",
    "\n",
    "\n",
    "As a first step lets do three simple steps on the dataset\n",
    "\n",
    " - Size of the dataset\n",
    " - Get a glimpse of data by printing few rows of it.\n",
    " - What type of variables contribute our data"
   ]
  },
  {
   "cell_type": "markdown",
   "metadata": {
    "_cell_guid": "579ef8b7-02ad-7087-f27e-cc817f58f90a",
    "id": "MVT6q6s1hP74"
   },
   "source": [
    "#### **Shape Of The Dataset**"
   ]
  },
  {
   "cell_type": "code",
   "execution_count": null,
   "metadata": {
    "_cell_guid": "4b5eee60-635b-e053-97cd-62f3e9e8acac",
    "colab": {
     "base_uri": "https://localhost:8080/"
    },
    "id": "ySbcuxNohP74",
    "outputId": "2a48c9b4-e527-4e00-c7a2-eec6397cccb9"
   },
   "outputs": [],
   "source": [
    "df.shape"
   ]
  },
  {
   "cell_type": "markdown",
   "metadata": {
    "_cell_guid": "d390d70a-24ba-1e0a-33af-f4bf58862f93",
    "id": "Dxdyg33ChP75"
   },
   "source": [
    "#### **Sample Of First Few Rows**"
   ]
  },
  {
   "cell_type": "code",
   "execution_count": null,
   "metadata": {
    "_cell_guid": "664d34ff-4580-aeb1-18ea-6dca2b5ae078",
    "colab": {
     "base_uri": "https://localhost:8080/",
     "height": 363
    },
    "id": "CceajxqEhP75",
    "outputId": "1518e247-d01c-47ff-dc10-2d5b2b41388e"
   },
   "outputs": [],
   "source": [
    "df.head(10)"
   ]
  },
  {
   "cell_type": "markdown",
   "metadata": {
    "_cell_guid": "8c553d3a-0363-91e3-49b4-1a74a7b464c9",
    "id": "GlYnnESAhP75"
   },
   "source": [
    "#### **Variables Data Type**"
   ]
  },
  {
   "cell_type": "code",
   "execution_count": null,
   "metadata": {
    "_cell_guid": "6ee04436-80f8-ba7c-242e-ec78a9df5fdc",
    "colab": {
     "base_uri": "https://localhost:8080/"
    },
    "id": "rj6FwRwDhP76",
    "outputId": "d697edea-f277-4f1a-e15e-6c1e66a9176b"
   },
   "outputs": [],
   "source": [
    "df.dtypes"
   ]
  },
  {
   "cell_type": "markdown",
   "metadata": {
    "_cell_guid": "d3dfb2ef-0038-3dfd-928d-890eeba0c09a",
    "id": "WbFeDrcphP76"
   },
   "source": [
    " #### Do we have missing values ?\n",
    "  find out whether we have any missing values in our data. Luckily we dont have any missing value in the dataset."
   ]
  },
  {
   "cell_type": "code",
   "execution_count": null,
   "metadata": {
    "colab": {
     "base_uri": "https://localhost:8080/",
     "height": 582
    },
    "id": "VFDnB0hLhP76",
    "outputId": "25851fae-9d6c-4fcc-9652-f3b835e898b7",
    "pycharm": {
     "name": "#%%\n"
    }
   },
   "outputs": [],
   "source": [
    "pd.DataFrame({'Number of Missing Values (Training)': df.isna().sum(),\n",
    "              '% of Missing Values (Training)': (df.isna().sum()/df.shape[0] * 100).round(2)})"
   ]
  },
  {
   "cell_type": "markdown",
   "metadata": {
    "_cell_guid": "44d05ac3-327f-26ce-cc4a-f2d1e077a9a0",
    "id": "9RRwmJ1bhP76"
   },
   "source": [
    "### Visualize Distribution Of Data\n",
    "As it is visible from the below figures that \"count\" variable is skewed towards right. It is desirable to have Normal distribution as most of the machine learning techniques require dependent variable to be Normal. One possible solution is to take log transformation on \"count\" variable after removing outlier data points. After the transformation the data looks lot better but still not ideally following normal distribution."
   ]
  },
  {
   "cell_type": "code",
   "execution_count": null,
   "metadata": {
    "colab": {
     "base_uri": "https://localhost:8080/",
     "height": 879
    },
    "id": "Ox4ZilRRhP76",
    "outputId": "8ef180ee-b39b-4aa5-cf25-2a82f61df340"
   },
   "outputs": [],
   "source": [
    "df.hist(bins=50, figsize=(20,15))\n",
    "plt.show()"
   ]
  },
  {
   "cell_type": "code",
   "execution_count": null,
   "metadata": {
    "colab": {
     "base_uri": "https://localhost:8080/",
     "height": 279
    },
    "id": "I9e3RT0qhP77",
    "outputId": "0271d23a-fa8b-4a77-e46f-3e935beca572"
   },
   "outputs": [],
   "source": [
    "#Histogram for count; this is our dependent variable ... let's look close\n",
    "sns.set_style('darkgrid')\n",
    "sns.histplot(df['cnt'], bins = 100, color = 'green')\n",
    "plt.show()"
   ]
  },
  {
   "cell_type": "code",
   "execution_count": null,
   "metadata": {
    "colab": {
     "base_uri": "https://localhost:8080/",
     "height": 279
    },
    "id": "DoKAy_xDhP77",
    "outputId": "965cb46b-bb4a-4cae-924c-27666c372f83"
   },
   "outputs": [],
   "source": [
    "#Boxplot for count\n",
    "# The whiskers extend from the box by 1.5x the inter-quartile range (IQR)\n",
    "import matplotlib.pyplot as plt\n",
    "sns.boxplot(x = 'cnt', data = df, color = 'mediumpurple')\n",
    "plt.show()"
   ]
  },
  {
   "cell_type": "markdown",
   "metadata": {
    "id": "fUBdB-j7hP77"
   },
   "source": [
    "These three charts above can tell us a lot about our target variable.\n",
    "\n",
    "Our target variable, count is not normally distributed.\n",
    "There are multiple outliers in the variable. We could get rid of outside the 1.5x IQR of 3 standard deviations. We choose the later"
   ]
  },
  {
   "cell_type": "markdown",
   "metadata": {
    "id": "1v3rBCE1hP77"
   },
   "source": [
    "### Create training and test dataframes\n",
    "\n",
    "Strategy : use the first 24 days of the month as training data and the remaining days are test data\n"
   ]
  },
  {
   "cell_type": "code",
   "execution_count": null,
   "metadata": {
    "colab": {
     "base_uri": "https://localhost:8080/"
    },
    "id": "EfM_qfC_hP77",
    "outputId": "f3c268a2-380d-4671-f14d-175a73424de0",
    "pycharm": {
     "name": "#%%\n"
    }
   },
   "outputs": [],
   "source": [
    "cutoff_day = 24\n",
    "train_df = df[df.dteday.dt.day <=cutoff_day]\n",
    "test_df = df[df.dteday.dt.day>cutoff_day]\n",
    "print(\"training rows\", train_df.shape[0])\n",
    "print(\"test rows\", test_df.shape[0])\n",
    "print(\"training ratio\", train_df.shape[0]/df.shape[0])"
   ]
  },
  {
   "cell_type": "markdown",
   "metadata": {
    "_cell_guid": "687cad46-2854-3af7-bb10-7c0e96153adf",
    "id": "AL7gWf3ThP78"
   },
   "source": [
    "#### **Lets Remove Outliers In The Count Column**"
   ]
  },
  {
   "cell_type": "code",
   "execution_count": null,
   "metadata": {
    "colab": {
     "base_uri": "https://localhost:8080/"
    },
    "id": "P212vyc4hP78",
    "outputId": "37c0e46b-0121-4c76-fc64-602197500747"
   },
   "outputs": [],
   "source": [
    "outliers = train_df[np.abs(train_df[\"cnt\"]-train_df[\"cnt\"].mean())>(3*train_df[\"cnt\"].std())]\n",
    "print((len(outliers)/len(train_df))*100)                                                  "
   ]
  },
  {
   "cell_type": "code",
   "execution_count": null,
   "metadata": {
    "colab": {
     "base_uri": "https://localhost:8080/"
    },
    "id": "WdEWYV6UhP78",
    "outputId": "80677d77-7e2e-43be-8d18-212497cbda2a"
   },
   "outputs": [],
   "source": [
    "print(outliers.shape)\n",
    "print(train_df.shape)"
   ]
  },
  {
   "cell_type": "code",
   "execution_count": null,
   "metadata": {
    "colab": {
     "base_uri": "https://localhost:8080/"
    },
    "id": "2J8-wsGmhP78",
    "outputId": "21d68d18-559f-449d-bade-ed7e8c0d1b54"
   },
   "outputs": [],
   "source": [
    "#Data without the outliers in count\n",
    "train_df = train_df[~train_df.isin(outliers)].dropna()\n",
    "train_df.shape"
   ]
  },
  {
   "cell_type": "markdown",
   "metadata": {
    "_cell_guid": "44d05ac3-327f-26ce-cc4a-f2d1e077a9a0",
    "id": "IvxylU17hP78"
   },
   "source": [
    "#### Visualizing Distribution Of Count Data after removing outliers\n",
    "As it is visible from the below figures that \"count\" variable is skewed towards right. It is desirable to have Normal distribution as most of the machine learning techniques require dependent variable to be Normal. One possible solution is to take log transformation on \"count\" variable after removing outlier data points. After the transformation the data looks lot better but still not ideally following normal distribution."
   ]
  },
  {
   "cell_type": "code",
   "execution_count": null,
   "metadata": {
    "_cell_guid": "6b0caaf4-4215-e3bc-d6b4-7914696c668f",
    "colab": {
     "base_uri": "https://localhost:8080/",
     "height": 367
    },
    "id": "szENfqiQhP78",
    "outputId": "e7d33d20-1412-46a8-b802-b9111309f163"
   },
   "outputs": [],
   "source": [
    "fig,axes = plt.subplots(ncols=2,nrows=1)\n",
    "fig.set_size_inches(6, 5)\n",
    "sns.histplot(train_df[\"cnt\"],ax=axes[0])\n",
    "sns.histplot(np.log(train_df[\"cnt\"]),ax=axes[1])\n",
    "axes[0].set(xlabel='number of rentals', ylabel='Count',title=\"cnt histogram\")\n",
    "axes[1].set(xlabel='log number of rentals',title=\"log cnt histogram\")"
   ]
  },
  {
   "cell_type": "raw",
   "metadata": {
    "id": "WNI1zjvjhP78"
   },
   "source": [
    "## Data Wrangling"
   ]
  },
  {
   "cell_type": "markdown",
   "metadata": {
    "id": "eP9PCoZNhP79"
   },
   "source": [
    "#### Correlation Analysis\n",
    "One common way to understand how a dependent variable is influenced by features (numerical) is to build a correlation matrix. \n"
   ]
  },
  {
   "cell_type": "code",
   "execution_count": null,
   "metadata": {
    "colab": {
     "base_uri": "https://localhost:8080/"
    },
    "id": "D9ptZ4RuhP79",
    "outputId": "af2f2e4d-2c0f-447c-b39f-e29eeb1a61dd"
   },
   "outputs": [],
   "source": [
    "# select a subset of variables we are interested in \n",
    "\n",
    "corr = train_df[['season', 'yr', 'mnth', 'hr', 'holiday', 'weekday',\n",
    "       'workingday', 'weathersit', 'temp', 'atemp', 'hum', 'windspeed','cnt']].corr()\n",
    "corr['cnt'].sort_values(ascending=False)"
   ]
  },
  {
   "cell_type": "markdown",
   "metadata": {
    "id": "b25I1YQ5hP79"
   },
   "source": [
    " - temp and humidity features have positive and negative correlation\n",
    "   with count respectively.Although the correlation between them are not\n",
    "   very prominent still the count variable has little dependency on\n",
    "   \"temp\" and \"humidity\".\n",
    " - windspeed is not really useful numerical feature and it is visible from it correlation value with \"count\"\n",
    " - \"atemp\" is variable is not taken into since \"atemp\" and \"temp\" has got strong correlation with each other. During model building any one of the variable has to be dropped since they will exhibit multicollinearity in the data.\n",
    " - \"Casual\" and \"Registered\" are also not taken into account since they are leakage variables in nature and need to dropped during model building.\n"
   ]
  },
  {
   "cell_type": "markdown",
   "metadata": {
    "_cell_guid": "d15f1bf9-f695-c69a-a673-db356620bcea",
    "id": "PtJ4EkvuhP79"
   },
   "source": [
    "#### Visualizing Count Vs (Month,Season,Hour,Weekday,Usertype)\n",
    "\n",
    " - It is quiet obvious that people tend to rent bike during summer\n",
    "   season since it is really conducive to ride bike at that\n",
    "   season.Therefore June, July and August has got relatively higher\n",
    "   demand for bicycle.\n",
    " - On weekdays more people tend to rent bicycle around 7AM-8AM and 5PM-6PM. As we mentioned earlier this can be attributed to regular school and office commuters.\n",
    " - Above pattern is not observed on \"Saturday\" and \"Sunday\".More people tend to rent bicycle between 10AM and 4PM.\n",
    " - The peak user count around 7AM-8AM and 5PM-6PM is purely contributed by registered user."
   ]
  },
  {
   "cell_type": "code",
   "execution_count": null,
   "metadata": {
    "_cell_guid": "1c8b97d1-8022-a64a-8d7f-60254955b47e",
    "colab": {
     "base_uri": "https://localhost:8080/",
     "height": 1000
    },
    "id": "TKv6DXK8hP79",
    "outputId": "13afe569-e377-4a73-b698-d756f4a8f4cf"
   },
   "outputs": [],
   "source": [
    "fig,(ax1,ax2,ax3,ax4)= plt.subplots(nrows=4)\n",
    "fig.set_size_inches(12,20)\n",
    "hueOrder = [\"Sunday\",\"Monday\",\"Tuesday\",\"Wednesday\",\"Thursday\",\"Friday\",\"Saturday\"]\n",
    "\n",
    "monthAggregated = pd.DataFrame(train_df.groupby(\"mnth\")[\"cnt\"].mean()).reset_index()\n",
    "monthSorted = monthAggregated.sort_values(by=\"cnt\",ascending=False)\n",
    "sns.barplot(data=monthSorted,x=\"mnth\",y=\"cnt\",ax=ax1)\n",
    "ax1.set(xlabel='Month', ylabel='Average Count',title=\"Average Count By Month\")\n",
    "\n",
    "ax2.set(xlabel='Hour Of The Day', ylabel='Users Count',title=\"Average Users Count By Hour Of The Day Across Season\",label='big')\n",
    "\n",
    "hourAggregated = pd.DataFrame(train_df.groupby([\"hr\",\"weekday\"],sort=True)[\"cnt\"].mean()).reset_index()\n",
    "sns.pointplot(x=hourAggregated[\"hr\"], y=hourAggregated[\"cnt\"],hue=hourAggregated[\"weekday\"], data=hourAggregated, join=True,ax=ax3)\n",
    "ax3.set(xlabel='Hour Of The Day', ylabel='Users Count',title=\"Average Users Count By Hour Of The Day Across Weekdays\",label='big')\n",
    "\n",
    "hourTransformed = pd.melt(train_df[[\"hr\",\"casual\",\"registered\"]], id_vars=['hr'], value_vars=['casual', 'registered'])\n",
    "hourAggregated = pd.DataFrame(hourTransformed.groupby([\"hr\",\"variable\"],sort=True)[\"value\"].mean()).reset_index()\n",
    "sns.pointplot(x=hourAggregated[\"hr\"], y=hourAggregated[\"value\"],hue=hourAggregated[\"variable\"],hue_order=[\"casual\",\"registered\"], data=hourAggregated, join=True,ax=ax4)\n",
    "ax4.set(xlabel='Hour Of The Day', ylabel='Users Count',title=\"Average Users Count By Hour Of The Day Across User Type\",label='big')"
   ]
  },
  {
   "cell_type": "markdown",
   "metadata": {
    "_cell_guid": "eaf70e2b-13e7-1a57-511f-63b4f5e7ecdb",
    "id": "-7gCadIShP7-"
   },
   "source": [
    "**So we have visualized the data to a greater extent.So lets go and  build some models and see how close we can predict the results.**"
   ]
  },
  {
   "cell_type": "markdown",
   "metadata": {
    "id": "5l9m5PMlhP7-"
   },
   "source": [
    "###  Drop, recode, and normalize columns"
   ]
  },
  {
   "cell_type": "code",
   "execution_count": null,
   "metadata": {
    "_cell_guid": "105c47bc-b67e-aa6c-2f11-1e7da597dc6a",
    "id": "mBBX4k8hhP7-"
   },
   "outputs": [],
   "source": [
    "#categoricalFeatures = [\"season\",\"holiday\",\"workingday\",\"weathersit\",\"weekday\",\"mnth\",\"yr\",\"hr\"]\n",
    "#numericalFeatures = [\"hum\",\"windspeed\",\"atemp\"]\n",
    "#dropFeatures = ['instant','casual',\"dteday\",\"registered\",\"temp\"]\n",
    "\n",
    "categoricalFeatures = [\"weathersit\",\"holiday\",\"season\",\"workingday\",\"weekday\",\"mnth\",\"yr\",\"hr\"]\n",
    "numericalFeatures = [\"hum\",\"windspeed\",\"atemp\"]\n",
    "dropFeatures = ['instant','casual',\"dteday\",\"registered\",\"temp\"]"
   ]
  },
  {
   "cell_type": "code",
   "execution_count": null,
   "metadata": {
    "id": "gUgZhSCkhP7-"
   },
   "outputs": [],
   "source": [
    "df_sub = train_df.drop(dropFeatures, axis=1)\n",
    "df_num = df_sub[numericalFeatures]\n",
    "df_cat = df_sub[categoricalFeatures]"
   ]
  },
  {
   "cell_type": "code",
   "execution_count": null,
   "metadata": {
    "colab": {
     "base_uri": "https://localhost:8080/",
     "height": 206
    },
    "id": "cnSI8xxthP7-",
    "outputId": "f473febc-78e4-49a2-9a2b-aa3dc5f88ce4"
   },
   "outputs": [],
   "source": [
    "df_sub.head()"
   ]
  },
  {
   "cell_type": "code",
   "execution_count": null,
   "metadata": {
    "colab": {
     "base_uri": "https://localhost:8080/",
     "height": 206
    },
    "id": "dmwb-KhAhP7-",
    "outputId": "42e5f0d3-7798-4e3f-e713-7e2861e80bfe"
   },
   "outputs": [],
   "source": [
    "df_num.head()"
   ]
  },
  {
   "cell_type": "code",
   "execution_count": null,
   "metadata": {
    "colab": {
     "base_uri": "https://localhost:8080/",
     "height": 206
    },
    "id": "l-xS_GcDhP7-",
    "outputId": "355b7393-c279-40d1-abd3-aa2c4e6e2932"
   },
   "outputs": [],
   "source": [
    "df_cat.head()"
   ]
  },
  {
   "cell_type": "code",
   "execution_count": null,
   "metadata": {
    "colab": {
     "base_uri": "https://localhost:8080/"
    },
    "id": "IKeSAlYchP7_",
    "outputId": "a1bbfa0f-6a09-4c79-a96f-20ee2f08ffbf"
   },
   "outputs": [],
   "source": [
    "bike_y = train_df['cnt']\n",
    "bike_y.shape"
   ]
  },
  {
   "cell_type": "code",
   "execution_count": null,
   "metadata": {
    "id": "MgiXoN8mhP7_"
   },
   "outputs": [],
   "source": [
    "num_pipeline = Pipeline([\n",
    "        ('imputer', SimpleImputer(strategy=\"median\")),\n",
    "        ('std_scaler', StandardScaler()),\n",
    "        ])"
   ]
  },
  {
   "cell_type": "code",
   "execution_count": null,
   "metadata": {
    "id": "iiTweJErhP7_"
   },
   "outputs": [],
   "source": [
    "full_pipeline = ColumnTransformer([\n",
    "        (\"num\", num_pipeline, numericalFeatures),\n",
    "        (\"cat\", OneHotEncoder(), categoricalFeatures),\n",
    "        ])\n",
    "bike_X = full_pipeline.fit_transform(train_df)"
   ]
  },
  {
   "cell_type": "code",
   "execution_count": null,
   "metadata": {
    "colab": {
     "base_uri": "https://localhost:8080/"
    },
    "id": "TxO3OylVhP7_",
    "outputId": "1f193a78-7f56-4cef-8bfa-75257737aa53"
   },
   "outputs": [],
   "source": [
    "# the bike creates a sparse matrix, lets look at the first rows\n",
    "bike_X.todense()[:2,:]"
   ]
  },
  {
   "cell_type": "code",
   "execution_count": null,
   "metadata": {
    "colab": {
     "base_uri": "https://localhost:8080/"
    },
    "id": "lTdUvqrAhP7_",
    "outputId": "6201d187-386a-4737-c6f7-edd8a16a7d36"
   },
   "outputs": [],
   "source": [
    "bike_X.shape"
   ]
  },
  {
   "cell_type": "markdown",
   "metadata": {
    "id": "TGLWsE4whP7_"
   },
   "source": [
    "## Data Modeling"
   ]
  },
  {
   "cell_type": "markdown",
   "metadata": {
    "_cell_guid": "53111418-c6cc-b02e-2395-a04e45b1298a",
    "id": "GpXEEPSIhP7_"
   },
   "source": [
    "### **Linear Regression Model** ##"
   ]
  },
  {
   "cell_type": "code",
   "execution_count": null,
   "metadata": {
    "colab": {
     "base_uri": "https://localhost:8080/"
    },
    "id": "xl0ZGmoFhP8A",
    "outputId": "81956c8b-1ac2-463b-e546-021be8146b4d"
   },
   "outputs": [],
   "source": [
    "# Initialize logistic regression model\n",
    "lModel = LinearRegression()\n",
    "\n",
    "# Train the model\n",
    "lModel.fit(X = bike_X,y = bike_y)\n",
    "\n",
    "# Make predictions\n",
    "count_preds = lModel.predict(X=bike_X)\n",
    "lin_mse = mean_squared_error(bike_y, count_preds)\n",
    "lin_rmse = np.sqrt(lin_mse)\n",
    "lin_rmse\n",
    "print (\"RMSLE Value For Linear Regression: \",lin_rmse)"
   ]
  },
  {
   "cell_type": "markdown",
   "metadata": {
    "id": "V7Sm0AekhP8A"
   },
   "source": [
    "### Better Evaluation Using Cross-Validation"
   ]
  },
  {
   "cell_type": "code",
   "execution_count": null,
   "metadata": {
    "colab": {
     "base_uri": "https://localhost:8080/"
    },
    "id": "EToiUZx7hP8A",
    "outputId": "85812ee2-2791-422d-d148-61efedd610d9"
   },
   "outputs": [],
   "source": [
    "from sklearn.model_selection import cross_val_score\n",
    "\n",
    "scores = cross_val_score(lModel, bike_X, bike_y,\n",
    "                         scoring=\"neg_mean_squared_error\", cv=10)\n",
    "rmse_scores = np.sqrt(-scores)\n",
    "rmse_scores"
   ]
  },
  {
   "cell_type": "code",
   "execution_count": null,
   "metadata": {
    "id": "CkRHUOqthP8A"
   },
   "outputs": [],
   "source": [
    "def display_scores(scores):\n",
    "    print(\"Scores:\", scores)\n",
    "    print(\"Mean:\", scores.mean())\n",
    "    print(\"Standard deviation:\", scores.std())"
   ]
  },
  {
   "cell_type": "code",
   "execution_count": null,
   "metadata": {
    "colab": {
     "base_uri": "https://localhost:8080/"
    },
    "id": "OlfNthiIhP8A",
    "outputId": "34fbc577-7686-4bc4-ff5b-aa8ba2508e60"
   },
   "outputs": [],
   "source": [
    "\n",
    "display_scores(rmse_scores)"
   ]
  },
  {
   "cell_type": "markdown",
   "metadata": {
    "id": "11UjtxalhP8A"
   },
   "source": [
    "## Prediction"
   ]
  },
  {
   "cell_type": "code",
   "execution_count": null,
   "metadata": {
    "id": "3DcVo81nhP8A"
   },
   "outputs": [],
   "source": []
  },
  {
   "cell_type": "code",
   "execution_count": null,
   "metadata": {
    "_cell_guid": "6487f456-f1dc-680b-51fd-9ec8b45d1bac",
    "id": "x5guzPnhhP8A"
   },
   "outputs": [],
   "source": []
  }
 ],
 "metadata": {
  "_change_revision": 0,
  "_is_fork": false,
  "colab": {
   "include_colab_link": true,
   "name": "bikeshare-end-to-end.ipynb",
   "provenance": []
  },
  "kernelspec": {
   "display_name": "Python 3 (ipykernel)",
   "language": "python",
   "name": "python3"
  },
  "language_info": {
   "codemirror_mode": {
    "name": "ipython",
    "version": 3
   },
   "file_extension": ".py",
   "mimetype": "text/x-python",
   "name": "python",
   "nbconvert_exporter": "python",
   "pygments_lexer": "ipython3",
   "version": "3.9.7"
  }
 },
 "nbformat": 4,
 "nbformat_minor": 1
}
